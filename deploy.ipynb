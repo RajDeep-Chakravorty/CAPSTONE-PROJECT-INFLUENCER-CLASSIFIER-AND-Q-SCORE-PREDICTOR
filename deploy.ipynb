{
 "cells": [
  {
   "cell_type": "code",
   "execution_count": 9,
   "id": "a6234ae9",
   "metadata": {
    "scrolled": true
   },
   "outputs": [
    {
     "ename": "ModuleNotFoundError",
     "evalue": "No module named 'streamlit'",
     "output_type": "error",
     "traceback": [
      "\u001b[1;31m---------------------------------------------------------------------------\u001b[0m",
      "\u001b[1;31mModuleNotFoundError\u001b[0m                       Traceback (most recent call last)",
      "\u001b[1;32m~\\AppData\\Local\\Temp\\ipykernel_20604\\3098745557.py\u001b[0m in \u001b[0;36m<module>\u001b[1;34m\u001b[0m\n\u001b[1;32m----> 1\u001b[1;33m \u001b[1;32mimport\u001b[0m \u001b[0mstreamlit\u001b[0m \u001b[1;32mas\u001b[0m \u001b[0mst\u001b[0m\u001b[1;33m\u001b[0m\u001b[1;33m\u001b[0m\u001b[0m\n\u001b[0m\u001b[0;32m      2\u001b[0m \u001b[1;32mimport\u001b[0m \u001b[0mpandas\u001b[0m \u001b[1;32mas\u001b[0m \u001b[0mpd\u001b[0m\u001b[1;33m\u001b[0m\u001b[1;33m\u001b[0m\u001b[0m\n\u001b[0;32m      3\u001b[0m \u001b[1;32mfrom\u001b[0m \u001b[0msklearn\u001b[0m\u001b[1;33m.\u001b[0m\u001b[0mensemble\u001b[0m \u001b[1;32mimport\u001b[0m \u001b[0mRandomForestRegressor\u001b[0m\u001b[1;33m\u001b[0m\u001b[1;33m\u001b[0m\u001b[0m\n\u001b[0;32m      4\u001b[0m \u001b[1;33m\u001b[0m\u001b[0m\n\u001b[0;32m      5\u001b[0m \u001b[1;31m# Define a function to train a random forest regressor on some data\u001b[0m\u001b[1;33m\u001b[0m\u001b[1;33m\u001b[0m\u001b[0m\n",
      "\u001b[1;31mModuleNotFoundError\u001b[0m: No module named 'streamlit'"
     ]
    }
   ],
   "source": [
    "import streamlit as st\n",
    "import pandas as pd\n",
    "from sklearn.ensemble import RandomForestRegressor\n",
    "\n",
    "# Define a function to train a random forest regressor on some data\n",
    "def train_model(X, y):\n",
    "    model = RandomForestRegressor(n_estimators=100, random_state=42)\n",
    "    model.fit(X, y)\n",
    "    return model\n",
    "\n",
    "# Define the layout of the app\n",
    "def app_layout():\n",
    "    # Add a title\n",
    "    st.title(\"Regression Predictor\")\n",
    "\n",
    "    # Add some instructions\n",
    "    st.write(\"Enter some values to predict a regression value.\")\n",
    "\n",
    "    # Add input fields for the predictor variables\n",
    "    x1 = st.number_input(\"Enter predictor variable 1:\")\n",
    "    x2 = st.number_input(\"Enter predictor variable 2:\")\n",
    "    x3 = st.number_input(\"Enter predictor variable 3:\")\n",
    "\n",
    "    # Add a button to run the prediction\n",
    "    if st.button(\"Predict\"):\n",
    "        # Load the trained model\n",
    "        model = train_model(X, y)\n",
    "\n",
    "        # Create a DataFrame from the user input\n",
    "        user_input = pd.DataFrame({\n",
    "            \"x1\": [x1],\n",
    "            \"x2\": [x2],\n",
    "            \"x3\": [x3]\n",
    "        })\n",
    "\n",
    "        # Make the prediction using the model\n",
    "        prediction = model.predict(user_input)\n",
    "\n",
    "        # Show the prediction to the user\n",
    "        st.write(\"The predicted regression value is:\", prediction[0])\n",
    "\n",
    "# Define some sample data for the regression model\n",
    "X = [[1, 2, 3], [4, 5, 6], [7, 8, 9], [10, 11, 12]]\n",
    "y = [2, 4, 6, 8]\n",
    "\n",
    "# Run the app\n",
    "app_layout()"
   ]
  },
  {
   "cell_type": "code",
   "execution_count": 12,
   "id": "59a5381c",
   "metadata": {},
   "outputs": [
    {
     "name": "stderr",
     "output_type": "stream",
     "text": [
      "Unable to create process using 'C:\\Users\\RAJDEEP CHAKRAVORTY\\anaconda3\\python.exe \"C:\\Users\\RAJDEEP CHAKRAVORTY\\anaconda3\\Scripts\\pip3-script.py\" install streamlit'\n"
     ]
    }
   ],
   "source": [
    "!pip3 install streamlit"
   ]
  },
  {
   "cell_type": "code",
   "execution_count": null,
   "id": "babbc3da",
   "metadata": {},
   "outputs": [],
   "source": []
  }
 ],
 "metadata": {
  "kernelspec": {
   "display_name": "Python 3 (ipykernel)",
   "language": "python",
   "name": "python3"
  },
  "language_info": {
   "codemirror_mode": {
    "name": "ipython",
    "version": 3
   },
   "file_extension": ".py",
   "mimetype": "text/x-python",
   "name": "python",
   "nbconvert_exporter": "python",
   "pygments_lexer": "ipython3",
   "version": "3.9.12"
  }
 },
 "nbformat": 4,
 "nbformat_minor": 5
}

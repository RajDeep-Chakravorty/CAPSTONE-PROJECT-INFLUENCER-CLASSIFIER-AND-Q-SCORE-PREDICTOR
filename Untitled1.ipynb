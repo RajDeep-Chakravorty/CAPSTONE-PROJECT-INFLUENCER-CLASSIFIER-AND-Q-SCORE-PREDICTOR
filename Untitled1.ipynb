{
 "cells": [
  {
   "cell_type": "code",
   "execution_count": 19,
   "id": "e7aab32f",
   "metadata": {},
   "outputs": [
    {
     "name": "stdout",
     "output_type": "stream",
     "text": [
      "[]\n"
     ]
    }
   ],
   "source": [
    "import spacy\n",
    "\n",
    "# Load the English language model in spaCy\n",
    "nlp = spacy.load(\"en_core_web_sm\")\n",
    "\n",
    "# Define the categories you want to extract\n",
    "categories = [\"food\", \"music\", \"sports\", \"movies\", \"books\"]\n",
    "\n",
    "# Define a function to extract categories from user input\n",
    "def extract_categories(text):\n",
    "    # Parse the input text with spaCy\n",
    "    doc = nlp(text)\n",
    "    # Use NER to extract named entities and their labels\n",
    "    entities = [(ent.text, ent.label_) for ent in doc.ents]\n",
    "    # Filter out the entities that are not in the categories list\n",
    "    categories_found = [ent[0] for ent in entities if ent[1] == \"CATEGORY\" and ent[0].lower() in categories]\n",
    "    return categories_found\n",
    "\n",
    "# Test the function with some example input\n",
    "text = \"I love pizza and jazz music, but I also enjoy playing soccer and watching movies.\"\n",
    "categories_found = extract_categories(text)\n",
    "print(categories_found)  # Output: ['food', 'music', 'sports', 'movies']"
   ]
  },
  {
   "cell_type": "code",
   "execution_count": null,
   "id": "67143c8a",
   "metadata": {},
   "outputs": [],
   "source": []
  }
 ],
 "metadata": {
  "kernelspec": {
   "display_name": "Python 3 (ipykernel)",
   "language": "python",
   "name": "python3"
  },
  "language_info": {
   "codemirror_mode": {
    "name": "ipython",
    "version": 3
   },
   "file_extension": ".py",
   "mimetype": "text/x-python",
   "name": "python",
   "nbconvert_exporter": "python",
   "pygments_lexer": "ipython3",
   "version": "3.9.13"
  }
 },
 "nbformat": 4,
 "nbformat_minor": 5
}

{
 "cells": [
  {
   "cell_type": "code",
   "execution_count": 1,
   "id": "fb45dde2",
   "metadata": {},
   "outputs": [],
   "source": [
    "import pandas as pd\n",
    "import numpy as np\n",
    "import seaborn as sns\n",
    "import matplotlib.pyplot as plt\n",
    "import warnings \n",
    "warnings.filterwarnings(\"ignore\")"
   ]
  },
  {
   "cell_type": "code",
   "execution_count": 2,
   "id": "66f93e85",
   "metadata": {},
   "outputs": [],
   "source": [
    "df=pd.read_csv('Final Data.csv')"
   ]
  },
  {
   "cell_type": "code",
   "execution_count": 3,
   "id": "d706cfdc",
   "metadata": {},
   "outputs": [
    {
     "data": {
      "text/html": [
       "<div>\n",
       "<style scoped>\n",
       "    .dataframe tbody tr th:only-of-type {\n",
       "        vertical-align: middle;\n",
       "    }\n",
       "\n",
       "    .dataframe tbody tr th {\n",
       "        vertical-align: top;\n",
       "    }\n",
       "\n",
       "    .dataframe thead th {\n",
       "        text-align: right;\n",
       "    }\n",
       "</style>\n",
       "<table border=\"1\" class=\"dataframe\">\n",
       "  <thead>\n",
       "    <tr style=\"text-align: right;\">\n",
       "      <th></th>\n",
       "      <th>Name</th>\n",
       "      <th>Q score</th>\n",
       "      <th>Followers</th>\n",
       "      <th>Avg Likes</th>\n",
       "      <th>Avg Views</th>\n",
       "      <th>Engagement  Rate</th>\n",
       "      <th>Location</th>\n",
       "      <th>Category</th>\n",
       "    </tr>\n",
       "  </thead>\n",
       "  <tbody>\n",
       "    <tr>\n",
       "      <th>0</th>\n",
       "      <td>NaN</td>\n",
       "      <td>NaN</td>\n",
       "      <td>NaN</td>\n",
       "      <td>NaN</td>\n",
       "      <td>NaN</td>\n",
       "      <td>NaN</td>\n",
       "      <td>NaN</td>\n",
       "      <td>NaN</td>\n",
       "    </tr>\n",
       "    <tr>\n",
       "      <th>1</th>\n",
       "      <td>Priyanka Chopra Jonaspriyankachopra</td>\n",
       "      <td>9.51</td>\n",
       "      <td>79.7m</td>\n",
       "      <td>1.3m</td>\n",
       "      <td>3.6m</td>\n",
       "      <td>1.61%</td>\n",
       "      <td>India</td>\n",
       "      <td>Arts &amp; EntertainmentMovies</td>\n",
       "    </tr>\n",
       "    <tr>\n",
       "      <th>2</th>\n",
       "      <td>Shraddha Kapoorshraddhakapoor</td>\n",
       "      <td>9.46</td>\n",
       "      <td>73.2m</td>\n",
       "      <td>1.1m</td>\n",
       "      <td>1.3m</td>\n",
       "      <td>1.48%</td>\n",
       "      <td>India</td>\n",
       "      <td>Arts &amp; EntertainmentMovies</td>\n",
       "    </tr>\n",
       "    <tr>\n",
       "      <th>3</th>\n",
       "      <td>Neha Kakkarnehakakkar</td>\n",
       "      <td>9.34</td>\n",
       "      <td>70.3m</td>\n",
       "      <td>609k</td>\n",
       "      <td>2m</td>\n",
       "      <td>0.87%</td>\n",
       "      <td>Mumbai</td>\n",
       "      <td>Arts &amp; EntertainmentMovies</td>\n",
       "    </tr>\n",
       "    <tr>\n",
       "      <th>4</th>\n",
       "      <td>Deepika Padukonedeepikapadukone</td>\n",
       "      <td>9.45</td>\n",
       "      <td>67.6m</td>\n",
       "      <td>1m</td>\n",
       "      <td>893.4k</td>\n",
       "      <td>1.55%</td>\n",
       "      <td>India</td>\n",
       "      <td>Arts &amp; EntertainmentMovies</td>\n",
       "    </tr>\n",
       "    <tr>\n",
       "      <th>...</th>\n",
       "      <td>...</td>\n",
       "      <td>...</td>\n",
       "      <td>...</td>\n",
       "      <td>...</td>\n",
       "      <td>...</td>\n",
       "      <td>...</td>\n",
       "      <td>...</td>\n",
       "      <td>...</td>\n",
       "    </tr>\n",
       "    <tr>\n",
       "      <th>6465</th>\n",
       "      <td>SJbox | Shreya Jainsj.box</td>\n",
       "      <td>6.76</td>\n",
       "      <td>20.2k</td>\n",
       "      <td>441</td>\n",
       "      <td>7.8k</td>\n",
       "      <td>2.40%</td>\n",
       "      <td>Jaipur</td>\n",
       "      <td>Style &amp; FashionClothing</td>\n",
       "    </tr>\n",
       "    <tr>\n",
       "      <th>6466</th>\n",
       "      <td>Monahleesamonahleesa</td>\n",
       "      <td>6.37</td>\n",
       "      <td>20.2k</td>\n",
       "      <td>254</td>\n",
       "      <td>1k</td>\n",
       "      <td>1.68%</td>\n",
       "      <td>Bengaluru</td>\n",
       "      <td>LifestyleStyle &amp; Fashion</td>\n",
       "    </tr>\n",
       "    <tr>\n",
       "      <th>6467</th>\n",
       "      <td>Ganesh Parikh letsgostylish_</td>\n",
       "      <td>7.06</td>\n",
       "      <td>20.1k</td>\n",
       "      <td>659</td>\n",
       "      <td>0</td>\n",
       "      <td>3.31%</td>\n",
       "      <td>Mumbai</td>\n",
       "      <td>Style &amp; FashionClothing</td>\n",
       "    </tr>\n",
       "    <tr>\n",
       "      <th>6468</th>\n",
       "      <td>Style_ina_whilestyle_ina_while</td>\n",
       "      <td>2.32</td>\n",
       "      <td>20k</td>\n",
       "      <td>4</td>\n",
       "      <td>72</td>\n",
       "      <td>0.02%</td>\n",
       "      <td>Mumbai</td>\n",
       "      <td>Style &amp; FashionBeauty</td>\n",
       "    </tr>\n",
       "    <tr>\n",
       "      <th>6469</th>\n",
       "      <td>RANJIT RODRICKSranjitrodricks</td>\n",
       "      <td>2.48</td>\n",
       "      <td>20k</td>\n",
       "      <td>0</td>\n",
       "      <td>375</td>\n",
       "      <td>0.03%</td>\n",
       "      <td>Mumbai</td>\n",
       "      <td>Style &amp; Fashion</td>\n",
       "    </tr>\n",
       "  </tbody>\n",
       "</table>\n",
       "<p>6470 rows × 8 columns</p>\n",
       "</div>"
      ],
      "text/plain": [
       "                                     Name  Q score  Followers Avg Likes  \\\n",
       "0                                     NaN       NaN       NaN       NaN   \n",
       "1     Priyanka Chopra Jonaspriyankachopra      9.51     79.7m      1.3m   \n",
       "2           Shraddha Kapoorshraddhakapoor      9.46     73.2m      1.1m   \n",
       "3                   Neha Kakkarnehakakkar      9.34     70.3m      609k   \n",
       "4         Deepika Padukonedeepikapadukone      9.45     67.6m        1m   \n",
       "...                                   ...       ...       ...       ...   \n",
       "6465            SJbox | Shreya Jainsj.box      6.76     20.2k       441   \n",
       "6466                 Monahleesamonahleesa      6.37     20.2k       254   \n",
       "6467         Ganesh Parikh letsgostylish_      7.06     20.1k       659   \n",
       "6468       Style_ina_whilestyle_ina_while      2.32       20k         4   \n",
       "6469        RANJIT RODRICKSranjitrodricks      2.48       20k         0   \n",
       "\n",
       "     Avg Views  Engagement  Rate   Location                    Category  \n",
       "0           NaN              NaN        NaN                         NaN  \n",
       "1          3.6m            1.61%      India  Arts & EntertainmentMovies  \n",
       "2          1.3m            1.48%      India  Arts & EntertainmentMovies  \n",
       "3            2m            0.87%     Mumbai  Arts & EntertainmentMovies  \n",
       "4        893.4k            1.55%      India  Arts & EntertainmentMovies  \n",
       "...         ...              ...        ...                         ...  \n",
       "6465       7.8k            2.40%     Jaipur     Style & FashionClothing  \n",
       "6466         1k            1.68%  Bengaluru    LifestyleStyle & Fashion  \n",
       "6467          0            3.31%     Mumbai     Style & FashionClothing  \n",
       "6468         72            0.02%     Mumbai       Style & FashionBeauty  \n",
       "6469        375            0.03%     Mumbai             Style & Fashion  \n",
       "\n",
       "[6470 rows x 8 columns]"
      ]
     },
     "execution_count": 3,
     "metadata": {},
     "output_type": "execute_result"
    }
   ],
   "source": [
    "df"
   ]
  },
  {
   "cell_type": "code",
   "execution_count": 4,
   "id": "185133aa",
   "metadata": {},
   "outputs": [
    {
     "data": {
      "text/plain": [
       "Name                1\n",
       "Q score             1\n",
       "Followers           1\n",
       "Avg Likes           1\n",
       "Avg Views           1\n",
       "Engagement  Rate    1\n",
       "Location            1\n",
       "Category            1\n",
       "dtype: int64"
      ]
     },
     "execution_count": 4,
     "metadata": {},
     "output_type": "execute_result"
    }
   ],
   "source": [
    "df.isnull().sum()"
   ]
  },
  {
   "cell_type": "code",
   "execution_count": 5,
   "id": "b8cc4ea2",
   "metadata": {},
   "outputs": [],
   "source": [
    "df1=df.dropna()"
   ]
  },
  {
   "cell_type": "code",
   "execution_count": 6,
   "id": "289b6d26",
   "metadata": {},
   "outputs": [
    {
     "data": {
      "text/html": [
       "<div>\n",
       "<style scoped>\n",
       "    .dataframe tbody tr th:only-of-type {\n",
       "        vertical-align: middle;\n",
       "    }\n",
       "\n",
       "    .dataframe tbody tr th {\n",
       "        vertical-align: top;\n",
       "    }\n",
       "\n",
       "    .dataframe thead th {\n",
       "        text-align: right;\n",
       "    }\n",
       "</style>\n",
       "<table border=\"1\" class=\"dataframe\">\n",
       "  <thead>\n",
       "    <tr style=\"text-align: right;\">\n",
       "      <th></th>\n",
       "      <th>Name</th>\n",
       "      <th>Q score</th>\n",
       "      <th>Followers</th>\n",
       "      <th>Avg Likes</th>\n",
       "      <th>Avg Views</th>\n",
       "      <th>Engagement  Rate</th>\n",
       "      <th>Location</th>\n",
       "      <th>Category</th>\n",
       "    </tr>\n",
       "  </thead>\n",
       "  <tbody>\n",
       "    <tr>\n",
       "      <th>1</th>\n",
       "      <td>Priyanka Chopra Jonaspriyankachopra</td>\n",
       "      <td>9.51</td>\n",
       "      <td>79.7m</td>\n",
       "      <td>1.3m</td>\n",
       "      <td>3.6m</td>\n",
       "      <td>1.61%</td>\n",
       "      <td>India</td>\n",
       "      <td>Arts &amp; EntertainmentMovies</td>\n",
       "    </tr>\n",
       "    <tr>\n",
       "      <th>2</th>\n",
       "      <td>Shraddha Kapoorshraddhakapoor</td>\n",
       "      <td>9.46</td>\n",
       "      <td>73.2m</td>\n",
       "      <td>1.1m</td>\n",
       "      <td>1.3m</td>\n",
       "      <td>1.48%</td>\n",
       "      <td>India</td>\n",
       "      <td>Arts &amp; EntertainmentMovies</td>\n",
       "    </tr>\n",
       "    <tr>\n",
       "      <th>3</th>\n",
       "      <td>Neha Kakkarnehakakkar</td>\n",
       "      <td>9.34</td>\n",
       "      <td>70.3m</td>\n",
       "      <td>609k</td>\n",
       "      <td>2m</td>\n",
       "      <td>0.87%</td>\n",
       "      <td>Mumbai</td>\n",
       "      <td>Arts &amp; EntertainmentMovies</td>\n",
       "    </tr>\n",
       "    <tr>\n",
       "      <th>4</th>\n",
       "      <td>Deepika Padukonedeepikapadukone</td>\n",
       "      <td>9.45</td>\n",
       "      <td>67.6m</td>\n",
       "      <td>1m</td>\n",
       "      <td>893.4k</td>\n",
       "      <td>1.55%</td>\n",
       "      <td>India</td>\n",
       "      <td>Arts &amp; EntertainmentMovies</td>\n",
       "    </tr>\n",
       "    <tr>\n",
       "      <th>5</th>\n",
       "      <td>Alia Bhattaliaabhatt</td>\n",
       "      <td>9.99</td>\n",
       "      <td>66.6m</td>\n",
       "      <td>3.2m</td>\n",
       "      <td>4.8m</td>\n",
       "      <td>4.78%</td>\n",
       "      <td>India</td>\n",
       "      <td>Arts &amp; EntertainmentMovies</td>\n",
       "    </tr>\n",
       "    <tr>\n",
       "      <th>...</th>\n",
       "      <td>...</td>\n",
       "      <td>...</td>\n",
       "      <td>...</td>\n",
       "      <td>...</td>\n",
       "      <td>...</td>\n",
       "      <td>...</td>\n",
       "      <td>...</td>\n",
       "      <td>...</td>\n",
       "    </tr>\n",
       "    <tr>\n",
       "      <th>6465</th>\n",
       "      <td>SJbox | Shreya Jainsj.box</td>\n",
       "      <td>6.76</td>\n",
       "      <td>20.2k</td>\n",
       "      <td>441</td>\n",
       "      <td>7.8k</td>\n",
       "      <td>2.40%</td>\n",
       "      <td>Jaipur</td>\n",
       "      <td>Style &amp; FashionClothing</td>\n",
       "    </tr>\n",
       "    <tr>\n",
       "      <th>6466</th>\n",
       "      <td>Monahleesamonahleesa</td>\n",
       "      <td>6.37</td>\n",
       "      <td>20.2k</td>\n",
       "      <td>254</td>\n",
       "      <td>1k</td>\n",
       "      <td>1.68%</td>\n",
       "      <td>Bengaluru</td>\n",
       "      <td>LifestyleStyle &amp; Fashion</td>\n",
       "    </tr>\n",
       "    <tr>\n",
       "      <th>6467</th>\n",
       "      <td>Ganesh Parikh letsgostylish_</td>\n",
       "      <td>7.06</td>\n",
       "      <td>20.1k</td>\n",
       "      <td>659</td>\n",
       "      <td>0</td>\n",
       "      <td>3.31%</td>\n",
       "      <td>Mumbai</td>\n",
       "      <td>Style &amp; FashionClothing</td>\n",
       "    </tr>\n",
       "    <tr>\n",
       "      <th>6468</th>\n",
       "      <td>Style_ina_whilestyle_ina_while</td>\n",
       "      <td>2.32</td>\n",
       "      <td>20k</td>\n",
       "      <td>4</td>\n",
       "      <td>72</td>\n",
       "      <td>0.02%</td>\n",
       "      <td>Mumbai</td>\n",
       "      <td>Style &amp; FashionBeauty</td>\n",
       "    </tr>\n",
       "    <tr>\n",
       "      <th>6469</th>\n",
       "      <td>RANJIT RODRICKSranjitrodricks</td>\n",
       "      <td>2.48</td>\n",
       "      <td>20k</td>\n",
       "      <td>0</td>\n",
       "      <td>375</td>\n",
       "      <td>0.03%</td>\n",
       "      <td>Mumbai</td>\n",
       "      <td>Style &amp; Fashion</td>\n",
       "    </tr>\n",
       "  </tbody>\n",
       "</table>\n",
       "<p>6469 rows × 8 columns</p>\n",
       "</div>"
      ],
      "text/plain": [
       "                                     Name  Q score  Followers Avg Likes  \\\n",
       "1     Priyanka Chopra Jonaspriyankachopra      9.51     79.7m      1.3m   \n",
       "2           Shraddha Kapoorshraddhakapoor      9.46     73.2m      1.1m   \n",
       "3                   Neha Kakkarnehakakkar      9.34     70.3m      609k   \n",
       "4         Deepika Padukonedeepikapadukone      9.45     67.6m        1m   \n",
       "5                    Alia Bhattaliaabhatt      9.99     66.6m      3.2m   \n",
       "...                                   ...       ...       ...       ...   \n",
       "6465            SJbox | Shreya Jainsj.box      6.76     20.2k       441   \n",
       "6466                 Monahleesamonahleesa      6.37     20.2k       254   \n",
       "6467         Ganesh Parikh letsgostylish_      7.06     20.1k       659   \n",
       "6468       Style_ina_whilestyle_ina_while      2.32       20k         4   \n",
       "6469        RANJIT RODRICKSranjitrodricks      2.48       20k         0   \n",
       "\n",
       "     Avg Views  Engagement  Rate   Location                    Category  \n",
       "1          3.6m            1.61%      India  Arts & EntertainmentMovies  \n",
       "2          1.3m            1.48%      India  Arts & EntertainmentMovies  \n",
       "3            2m            0.87%     Mumbai  Arts & EntertainmentMovies  \n",
       "4        893.4k            1.55%      India  Arts & EntertainmentMovies  \n",
       "5          4.8m            4.78%      India  Arts & EntertainmentMovies  \n",
       "...         ...              ...        ...                         ...  \n",
       "6465       7.8k            2.40%     Jaipur     Style & FashionClothing  \n",
       "6466         1k            1.68%  Bengaluru    LifestyleStyle & Fashion  \n",
       "6467          0            3.31%     Mumbai     Style & FashionClothing  \n",
       "6468         72            0.02%     Mumbai       Style & FashionBeauty  \n",
       "6469        375            0.03%     Mumbai             Style & Fashion  \n",
       "\n",
       "[6469 rows x 8 columns]"
      ]
     },
     "execution_count": 6,
     "metadata": {},
     "output_type": "execute_result"
    }
   ],
   "source": [
    "df1"
   ]
  },
  {
   "cell_type": "code",
   "execution_count": 7,
   "id": "f1826edc",
   "metadata": {},
   "outputs": [
    {
     "data": {
      "text/html": [
       "<div>\n",
       "<style scoped>\n",
       "    .dataframe tbody tr th:only-of-type {\n",
       "        vertical-align: middle;\n",
       "    }\n",
       "\n",
       "    .dataframe tbody tr th {\n",
       "        vertical-align: top;\n",
       "    }\n",
       "\n",
       "    .dataframe thead th {\n",
       "        text-align: right;\n",
       "    }\n",
       "</style>\n",
       "<table border=\"1\" class=\"dataframe\">\n",
       "  <thead>\n",
       "    <tr style=\"text-align: right;\">\n",
       "      <th></th>\n",
       "      <th>Name</th>\n",
       "      <th>Q score</th>\n",
       "      <th>Followers</th>\n",
       "      <th>Avg Likes</th>\n",
       "      <th>Avg Views</th>\n",
       "      <th>Engagement  Rate</th>\n",
       "      <th>Location</th>\n",
       "      <th>Category</th>\n",
       "    </tr>\n",
       "  </thead>\n",
       "  <tbody>\n",
       "    <tr>\n",
       "      <th>0</th>\n",
       "      <td>NaN</td>\n",
       "      <td>NaN</td>\n",
       "      <td>NaN</td>\n",
       "      <td>NaN</td>\n",
       "      <td>NaN</td>\n",
       "      <td>NaN</td>\n",
       "      <td>NaN</td>\n",
       "      <td>NaN</td>\n",
       "    </tr>\n",
       "    <tr>\n",
       "      <th>1</th>\n",
       "      <td>Priyanka Chopra Jonaspriyankachopra</td>\n",
       "      <td>9.51</td>\n",
       "      <td>79.7m</td>\n",
       "      <td>1.3m</td>\n",
       "      <td>3.6m</td>\n",
       "      <td>1.61%</td>\n",
       "      <td>India</td>\n",
       "      <td>Arts &amp; EntertainmentMovies</td>\n",
       "    </tr>\n",
       "    <tr>\n",
       "      <th>2</th>\n",
       "      <td>Shraddha Kapoorshraddhakapoor</td>\n",
       "      <td>9.46</td>\n",
       "      <td>73.2m</td>\n",
       "      <td>1.1m</td>\n",
       "      <td>1.3m</td>\n",
       "      <td>1.48%</td>\n",
       "      <td>India</td>\n",
       "      <td>Arts &amp; EntertainmentMovies</td>\n",
       "    </tr>\n",
       "    <tr>\n",
       "      <th>3</th>\n",
       "      <td>Neha Kakkarnehakakkar</td>\n",
       "      <td>9.34</td>\n",
       "      <td>70.3m</td>\n",
       "      <td>609k</td>\n",
       "      <td>2m</td>\n",
       "      <td>0.87%</td>\n",
       "      <td>Mumbai</td>\n",
       "      <td>Arts &amp; EntertainmentMovies</td>\n",
       "    </tr>\n",
       "    <tr>\n",
       "      <th>4</th>\n",
       "      <td>Deepika Padukonedeepikapadukone</td>\n",
       "      <td>9.45</td>\n",
       "      <td>67.6m</td>\n",
       "      <td>1m</td>\n",
       "      <td>893.4k</td>\n",
       "      <td>1.55%</td>\n",
       "      <td>India</td>\n",
       "      <td>Arts &amp; EntertainmentMovies</td>\n",
       "    </tr>\n",
       "  </tbody>\n",
       "</table>\n",
       "</div>"
      ],
      "text/plain": [
       "                                  Name  Q score  Followers Avg Likes  \\\n",
       "0                                  NaN       NaN       NaN       NaN   \n",
       "1  Priyanka Chopra Jonaspriyankachopra      9.51     79.7m      1.3m   \n",
       "2        Shraddha Kapoorshraddhakapoor      9.46     73.2m      1.1m   \n",
       "3                Neha Kakkarnehakakkar      9.34     70.3m      609k   \n",
       "4      Deepika Padukonedeepikapadukone      9.45     67.6m        1m   \n",
       "\n",
       "  Avg Views  Engagement  Rate Location                    Category  \n",
       "0        NaN              NaN      NaN                         NaN  \n",
       "1       3.6m            1.61%    India  Arts & EntertainmentMovies  \n",
       "2       1.3m            1.48%    India  Arts & EntertainmentMovies  \n",
       "3         2m            0.87%   Mumbai  Arts & EntertainmentMovies  \n",
       "4     893.4k            1.55%    India  Arts & EntertainmentMovies  "
      ]
     },
     "execution_count": 7,
     "metadata": {},
     "output_type": "execute_result"
    }
   ],
   "source": [
    "df.head()"
   ]
  },
  {
   "cell_type": "code",
   "execution_count": 8,
   "id": "b7171e20",
   "metadata": {},
   "outputs": [
    {
     "data": {
      "text/html": [
       "<div>\n",
       "<style scoped>\n",
       "    .dataframe tbody tr th:only-of-type {\n",
       "        vertical-align: middle;\n",
       "    }\n",
       "\n",
       "    .dataframe tbody tr th {\n",
       "        vertical-align: top;\n",
       "    }\n",
       "\n",
       "    .dataframe thead th {\n",
       "        text-align: right;\n",
       "    }\n",
       "</style>\n",
       "<table border=\"1\" class=\"dataframe\">\n",
       "  <thead>\n",
       "    <tr style=\"text-align: right;\">\n",
       "      <th></th>\n",
       "      <th>Name</th>\n",
       "      <th>Q score</th>\n",
       "      <th>Followers</th>\n",
       "      <th>Avg Likes</th>\n",
       "      <th>Avg Views</th>\n",
       "      <th>Engagement  Rate</th>\n",
       "      <th>Location</th>\n",
       "      <th>Category</th>\n",
       "    </tr>\n",
       "  </thead>\n",
       "  <tbody>\n",
       "    <tr>\n",
       "      <th>6465</th>\n",
       "      <td>SJbox | Shreya Jainsj.box</td>\n",
       "      <td>6.76</td>\n",
       "      <td>20.2k</td>\n",
       "      <td>441</td>\n",
       "      <td>7.8k</td>\n",
       "      <td>2.40%</td>\n",
       "      <td>Jaipur</td>\n",
       "      <td>Style &amp; FashionClothing</td>\n",
       "    </tr>\n",
       "    <tr>\n",
       "      <th>6466</th>\n",
       "      <td>Monahleesamonahleesa</td>\n",
       "      <td>6.37</td>\n",
       "      <td>20.2k</td>\n",
       "      <td>254</td>\n",
       "      <td>1k</td>\n",
       "      <td>1.68%</td>\n",
       "      <td>Bengaluru</td>\n",
       "      <td>LifestyleStyle &amp; Fashion</td>\n",
       "    </tr>\n",
       "    <tr>\n",
       "      <th>6467</th>\n",
       "      <td>Ganesh Parikh letsgostylish_</td>\n",
       "      <td>7.06</td>\n",
       "      <td>20.1k</td>\n",
       "      <td>659</td>\n",
       "      <td>0</td>\n",
       "      <td>3.31%</td>\n",
       "      <td>Mumbai</td>\n",
       "      <td>Style &amp; FashionClothing</td>\n",
       "    </tr>\n",
       "    <tr>\n",
       "      <th>6468</th>\n",
       "      <td>Style_ina_whilestyle_ina_while</td>\n",
       "      <td>2.32</td>\n",
       "      <td>20k</td>\n",
       "      <td>4</td>\n",
       "      <td>72</td>\n",
       "      <td>0.02%</td>\n",
       "      <td>Mumbai</td>\n",
       "      <td>Style &amp; FashionBeauty</td>\n",
       "    </tr>\n",
       "    <tr>\n",
       "      <th>6469</th>\n",
       "      <td>RANJIT RODRICKSranjitrodricks</td>\n",
       "      <td>2.48</td>\n",
       "      <td>20k</td>\n",
       "      <td>0</td>\n",
       "      <td>375</td>\n",
       "      <td>0.03%</td>\n",
       "      <td>Mumbai</td>\n",
       "      <td>Style &amp; Fashion</td>\n",
       "    </tr>\n",
       "  </tbody>\n",
       "</table>\n",
       "</div>"
      ],
      "text/plain": [
       "                                Name  Q score  Followers Avg Likes Avg Views   \\\n",
       "6465       SJbox | Shreya Jainsj.box      6.76     20.2k       441       7.8k   \n",
       "6466            Monahleesamonahleesa      6.37     20.2k       254         1k   \n",
       "6467    Ganesh Parikh letsgostylish_      7.06     20.1k       659          0   \n",
       "6468  Style_ina_whilestyle_ina_while      2.32       20k         4         72   \n",
       "6469   RANJIT RODRICKSranjitrodricks      2.48       20k         0        375   \n",
       "\n",
       "     Engagement  Rate   Location                  Category  \n",
       "6465            2.40%     Jaipur   Style & FashionClothing  \n",
       "6466            1.68%  Bengaluru  LifestyleStyle & Fashion  \n",
       "6467            3.31%     Mumbai   Style & FashionClothing  \n",
       "6468            0.02%     Mumbai     Style & FashionBeauty  \n",
       "6469            0.03%     Mumbai           Style & Fashion  "
      ]
     },
     "execution_count": 8,
     "metadata": {},
     "output_type": "execute_result"
    }
   ],
   "source": [
    "df.tail()"
   ]
  },
  {
   "cell_type": "code",
   "execution_count": 9,
   "id": "8c0a3018",
   "metadata": {},
   "outputs": [
    {
     "data": {
      "text/plain": [
       "213"
      ]
     },
     "execution_count": 9,
     "metadata": {},
     "output_type": "execute_result"
    }
   ],
   "source": [
    "df1['Category'].nunique()"
   ]
  },
  {
   "cell_type": "code",
   "execution_count": 10,
   "id": "27684a19",
   "metadata": {},
   "outputs": [
    {
     "data": {
      "text/html": [
       "<div>\n",
       "<style scoped>\n",
       "    .dataframe tbody tr th:only-of-type {\n",
       "        vertical-align: middle;\n",
       "    }\n",
       "\n",
       "    .dataframe tbody tr th {\n",
       "        vertical-align: top;\n",
       "    }\n",
       "\n",
       "    .dataframe thead th {\n",
       "        text-align: right;\n",
       "    }\n",
       "</style>\n",
       "<table border=\"1\" class=\"dataframe\">\n",
       "  <thead>\n",
       "    <tr style=\"text-align: right;\">\n",
       "      <th></th>\n",
       "      <th>Q score</th>\n",
       "    </tr>\n",
       "  </thead>\n",
       "  <tbody>\n",
       "    <tr>\n",
       "      <th>Q score</th>\n",
       "      <td>1.0</td>\n",
       "    </tr>\n",
       "  </tbody>\n",
       "</table>\n",
       "</div>"
      ],
      "text/plain": [
       "          Q score \n",
       "Q score        1.0"
      ]
     },
     "execution_count": 10,
     "metadata": {},
     "output_type": "execute_result"
    }
   ],
   "source": [
    "df1.corr()"
   ]
  },
  {
   "cell_type": "code",
   "execution_count": 11,
   "id": "7b2c53f4",
   "metadata": {},
   "outputs": [
    {
     "name": "stdout",
     "output_type": "stream",
     "text": [
      "<class 'pandas.core.frame.DataFrame'>\n",
      "Int64Index: 6469 entries, 1 to 6469\n",
      "Data columns (total 8 columns):\n",
      " #   Column            Non-Null Count  Dtype  \n",
      "---  ------            --------------  -----  \n",
      " 0   Name              6469 non-null   object \n",
      " 1   Q score           6469 non-null   float64\n",
      " 2   Followers         6469 non-null   object \n",
      " 3   Avg Likes         6469 non-null   object \n",
      " 4   Avg Views         6469 non-null   object \n",
      " 5   Engagement  Rate  6469 non-null   object \n",
      " 6   Location          6469 non-null   object \n",
      " 7   Category          6469 non-null   object \n",
      "dtypes: float64(1), object(7)\n",
      "memory usage: 454.9+ KB\n"
     ]
    }
   ],
   "source": [
    "df1.info()"
   ]
  },
  {
   "cell_type": "code",
   "execution_count": 12,
   "id": "9c079c7f",
   "metadata": {},
   "outputs": [
    {
     "data": {
      "text/plain": [
       "array(['Arts & EntertainmentMovies', 'Arts & EntertainmentLifestyle',\n",
       "       'Arts & EntertainmentDance', 'TelevisionArts & Entertainment',\n",
       "       'Arts & EntertainmentMusic', 'Arts & Entertainment',\n",
       "       'Arts & EntertainmentTelevision', 'MoviesArts & Entertainment',\n",
       "       'Arts & EntertainmentGaming', 'Health & WellnessFitness',\n",
       "       'Arts & EntertainmentHumor / Comedy',\n",
       "       'Arts & EntertainmentLiterature',\n",
       "       'Style & FashionArts & Entertainment', 'MusicMovies',\n",
       "       'DanceArts & Entertainment', 'Arts & EntertainmentStyle & Fashion',\n",
       "       'Home DecorArts & Entertainment', 'MusicArts & Entertainment',\n",
       "       'LifestyleDance', 'SportsArts & Entertainment',\n",
       "       'Arts & EntertainmentPhotography', 'Arts & EntertainmentBlogging',\n",
       "       'BeautyDance', 'TravelArts & Entertainment',\n",
       "       'LifestyleArts & Entertainment', 'Arts & EntertainmentFitness',\n",
       "       'Arts & EntertainmentHealth & Wellness',\n",
       "       'Arts & EntertainmentPolitics & Activism',\n",
       "       'CartoonArts & Entertainment',\n",
       "       'Humor / ComedyArts & Entertainment',\n",
       "       'EducationArts & Entertainment', 'FitnessLifestyle',\n",
       "       'LiteratureArts & Entertainment',\n",
       "       'Food & DrinkArts & Entertainment', 'Literature',\n",
       "       'LifestyleFamily & Parenting', 'PhotographyArts & Entertainment',\n",
       "       'Style & FashionLifestyle',\n",
       "       'Family & ParentingArts & Entertainment',\n",
       "       'LifestyleStyle & Fashion', 'Arts & EntertainmentGeneral',\n",
       "       'Arts & EntertainmentFamily & Parenting',\n",
       "       'FitnessArts & Entertainment', 'CricketArts & Entertainment',\n",
       "       'Arts & EntertainmentCartoon', 'Arts & EntertainmentSports',\n",
       "       'FitnessHealthcare', 'Arts & EntertainmentBeauty',\n",
       "       'BeautyArts & Entertainment', 'Style & FashionBeauty',\n",
       "       'GeneralArts & Entertainment',\n",
       "       'Politics & ActivismArts & Entertainment',\n",
       "       'PhotographyFood & Drink', 'MoviesFitness',\n",
       "       'Food & DrinkLifestyle', 'Style & FashionClothing',\n",
       "       'Arts & EntertainmentDigital Marketing', 'LifestyleFood & Drink',\n",
       "       'SportsCricket', 'Food & Drink', 'SportsTennis',\n",
       "       'LiteratureFood & Drink', 'Sports', 'Fitness', 'Travel',\n",
       "       'SportsFitness', 'SportsFootball', 'CricketSports',\n",
       "       'Family & Parenting', 'TechnologyGadgets', 'Technology',\n",
       "       'Business', 'Education', 'Businessstartup', 'Photography',\n",
       "       'LifestyleTravel', 'EducationBusiness',\n",
       "       'Investment & FinancePersonal Finance', 'FitnessHealth & Wellness',\n",
       "       'AutomotiveFamily & Parenting', 'FitnessTelevision',\n",
       "       'TravelLifestyle', 'ClothingFitness', 'LifestyleFitness',\n",
       "       'Food & DrinkStyle & Fashion', 'Religion & Spirituality',\n",
       "       'Style & FashionFitness', 'AutomotiveTravel', 'TravelAutomotive',\n",
       "       'Investment & FinanceLiterature', 'Investment & FinanceEducation',\n",
       "       'Family & ParentingDance', 'Automotive', 'GamingTravel',\n",
       "       'SportsAthlete', 'MusicStyle & Fashion',\n",
       "       'TechnologyApps & Software', 'PhotographyTravel',\n",
       "       'LifestyleAutomotive', 'Family & ParentingLifestyle',\n",
       "       'FitnessStyle & Fashion', 'TechnologyGaming', 'TravelFood & Drink',\n",
       "       'TravelPhotography', 'Food & DrinkHumor / Comedy',\n",
       "       'Personal FinanceInvestment & Finance', 'TechnologyBusiness',\n",
       "       'Style & FashionTravel', 'Health & WellnessYoga', 'SportsBoxing',\n",
       "       'TechnologyProgramming', 'Food & DrinkTravel',\n",
       "       'TravelStyle & Fashion', 'Investment & FinanceStock Market',\n",
       "       'LifestyleGadgets', 'FitnessDance',\n",
       "       'TechnologyInvestment & Finance', 'SportsHealth & Wellness',\n",
       "       'TechnologyGraphics & Animation', 'Food & DrinkHealth & Wellness',\n",
       "       'YogaFitness', 'PhotographyCartoon', 'FitnessFood & Drink',\n",
       "       'AthleteSports', 'EducationInvestment & Finance', 'SportsGolf',\n",
       "       'FitnessYoga', 'Style & FashionFamily & Parenting',\n",
       "       'BloggingTravel', 'LifestyleClothing', 'Family & ParentingFitness',\n",
       "       'Health & WellnessLifestyle', 'Family & ParentingGeneral',\n",
       "       'LifestyleGaming', 'Food & DrinkHealthcare', 'GeneralEducation',\n",
       "       'Family & ParentingStyle & Fashion', 'Family & ParentingTravel',\n",
       "       'BeautyTravel', 'Food & DrinkBlogging', 'BeautyFood & Drink',\n",
       "       'SportsLifestyle', 'Investment & Finance', 'SportsAutomotive',\n",
       "       'Health & WellnessTravel', 'TravelTelevision',\n",
       "       'Style & FashionHealth & Wellness', 'LifestyleHealth & Wellness',\n",
       "       'Home DecorTravel', 'Family & ParentingBeauty',\n",
       "       'LifestylePhotography', 'Humor / ComedyHealthcare',\n",
       "       'Style & FashionTechnology', 'TechnologyHumor / Comedy',\n",
       "       'TravelFamily & Parenting', 'FitnessAthlete', 'TravelFitness',\n",
       "       'GamingTechnology', 'Food & DrinkFamily & Parenting',\n",
       "       'Style & FashionFood & Drink', 'Family & ParentingEducation',\n",
       "       'EducationDigital Marketing', 'EducationPersonal Finance',\n",
       "       'Family & ParentingBlogging', 'GamingInvestment & Finance',\n",
       "       'BloggingFood & Drink', 'Food & DrinkPhotography',\n",
       "       'Family & ParentingHealth & Wellness', 'BeautyLifestyle',\n",
       "       'AutomotiveSports', 'PhotographyGraphics & Animation',\n",
       "       'SportsSwimming', 'LifestyleYoga', 'Health & WellnessHealthcare',\n",
       "       'PhotographyGeneral', 'GeneralAutomotive',\n",
       "       'TelevisionFamily & Parenting', 'Style & FashionPhotography',\n",
       "       'GeneralFamily & Parenting', 'TravelEducation',\n",
       "       'AutomotivePhotography', 'Health & WellnessFood & Drink',\n",
       "       'SportsGeneral', 'EducationMusic',\n",
       "       'Investment & FinanceReal Estate', 'FitnessGeneral',\n",
       "       'TechnologyTravel', 'Investment & FinanceBusiness',\n",
       "       'MoviesPhotography', 'BeautyFamily & Parenting',\n",
       "       'GeneralLifestyle', 'BusinessTechnology',\n",
       "       'Home DecorFamily & Parenting', 'Family & ParentingFood & Drink',\n",
       "       'SportsCycling', 'SportsTravel', 'Style & Fashion',\n",
       "       'Style & FashionAthlete', 'ClothingLifestyle',\n",
       "       'Style & FashionGeneral', 'BeautyStyle & Fashion',\n",
       "       'TelevisionStyle & Fashion', 'Style & FashionShopping',\n",
       "       'ClothingStyle & Fashion', 'Style & FashionSkin Care',\n",
       "       'Health & WellnessBeauty', 'Health & WellnessStyle & Fashion',\n",
       "       'GeneralStyle & Fashion', 'LifestyleGeneral', 'DanceGeneral',\n",
       "       'LifestyleBeauty', 'DanceStyle & Fashion', 'Style & FashionDance'],\n",
       "      dtype=object)"
      ]
     },
     "execution_count": 12,
     "metadata": {},
     "output_type": "execute_result"
    }
   ],
   "source": [
    "df1['Category'].unique()"
   ]
  },
  {
   "cell_type": "code",
   "execution_count": 13,
   "id": "ed8de08b",
   "metadata": {},
   "outputs": [],
   "source": [
    "category=df1['Category']"
   ]
  },
  {
   "cell_type": "code",
   "execution_count": 14,
   "id": "c43b6e55",
   "metadata": {},
   "outputs": [
    {
     "data": {
      "text/plain": [
       "Arts & EntertainmentMovies               1319\n",
       "Food & Drink                              515\n",
       "LifestyleStyle & Fashion                  483\n",
       "Arts & Entertainment                      364\n",
       "Style & FashionClothing                   358\n",
       "                                         ... \n",
       "FitnessAthlete                              1\n",
       "TechnologyHumor / Comedy                    1\n",
       "Arts & EntertainmentDigital Marketing       1\n",
       "Humor / ComedyHealthcare                    1\n",
       "Style & FashionDance                        1\n",
       "Name: Category, Length: 213, dtype: int64"
      ]
     },
     "execution_count": 14,
     "metadata": {},
     "output_type": "execute_result"
    }
   ],
   "source": [
    "df1['Category'].value_counts()\n",
    "#sns.countplot(df['Category'])"
   ]
  },
  {
   "cell_type": "code",
   "execution_count": 15,
   "id": "37640a49",
   "metadata": {},
   "outputs": [
    {
     "data": {
      "text/plain": [
       "208"
      ]
     },
     "execution_count": 15,
     "metadata": {},
     "output_type": "execute_result"
    }
   ],
   "source": [
    "df1['Location'].nunique()"
   ]
  },
  {
   "cell_type": "code",
   "execution_count": 16,
   "id": "74f0575b",
   "metadata": {},
   "outputs": [
    {
     "data": {
      "text/plain": [
       "array(['India', 'Mumbai', 'Delhi', 'Bengaluru', 'Hyderabad', 'Chandigarh',\n",
       "       'Chennai', 'Kerala', 'Kolkata', 'Lucknow', 'Mohali', 'Assam',\n",
       "       'Punjab', 'New Delhi', 'Bihar', 'Ludhiana', 'Goa', 'Surat',\n",
       "       'Gurgaon', 'Vasco', 'Bihar Sharif', 'West Bengal', 'Jaipur',\n",
       "       'Madanapalle', 'Ahmedabad', 'Kochi', 'Pune', 'Nainital',\n",
       "       'Amritsar', 'Ambala', 'Karnal', 'Indore', 'Kannur', 'Vadodara',\n",
       "       'Jalandhar', 'Bareilly', 'Amalapuram', 'Bhavnagar', 'Meerut',\n",
       "       'Navsari', 'Nashik', 'Mangalore', 'Karnataka', 'Nagpur',\n",
       "       'Visakhapatnam', 'Ghaziabad', 'Sangrur', 'Mysore', 'Telangana',\n",
       "       'Alappuzha', 'Gorakhpur', 'Addanki', 'Aurangabad', 'Hisar',\n",
       "       'Bhandup', 'Guwahati', 'Varanasi', 'Ujjain', 'Shillong',\n",
       "       'Andhra Pradesh', 'Culver City', 'Haryana', 'Gujarat', 'Dehradun',\n",
       "       'Odisha', 'Nadiad', 'Patiala', 'Uttar Pradesh', 'Jamshedpur',\n",
       "       'Tamil Nadu', 'Godhra', 'Bhopal', 'Nalagarh', 'Hubli', 'Kashmir',\n",
       "       'Bhubaneswar', 'Shimla', 'Kapurthala', 'Srinagar', 'Belgaum',\n",
       "       'Kanpur', 'Khanna', 'Vashi', 'Warangal', 'Rajasthan', 'Udupi',\n",
       "       'Juhu', 'Thrissur', 'Mizoram', 'Goregaon', 'Machilipatnam',\n",
       "       'Kanchipuram', 'Santa Ana', 'Nilambur', 'Mandya', 'Dimapur',\n",
       "       'Thiruvananthapuram', 'Mazgaon', 'Kota', 'Madhya Pradesh',\n",
       "       'Sambalpur', 'Maharashtra', 'Jaisalmer', 'Kottayam', 'Akurdi',\n",
       "       'Panvel', 'Agra', 'Salem', 'Khopoli', 'Lehi', 'Wardha', 'Noida',\n",
       "       'Udaipur', 'Narnaul', 'Jammu', 'Darjeeling', 'Mountain View',\n",
       "       'Panjim', 'Thanjavur', 'Vesava', 'Dehra Dun', 'Raipur',\n",
       "       'Vrindavan', 'Palakkad', 'Ernakulam', 'Faridabad', 'Silchar',\n",
       "       'Raniganj', 'Dewas', 'Secunderabad', 'Raebareli', 'Thane',\n",
       "       'Port Blair', 'Jamnagar', 'Nokha', 'Moga', 'Bhiwani', 'Hassan',\n",
       "       'Imphal', 'Ajmer', 'Rohtak', 'Anand', 'Ranchi', 'Himachal Pradesh',\n",
       "       'Muzaffarpur', 'Ooty', 'Abohar', 'Borivali West', 'Gohana',\n",
       "       'Coimbatore', 'Gwalior', 'Howrah', 'Patna', 'Akola', 'Kozhikode',\n",
       "       'Barnala', 'Rampur', 'Talent', 'Kollam', 'Rajpura', 'Ponda',\n",
       "       'Mithapur', 'Cuttack', 'Aizawl', 'Angul', 'Sikar', 'Panchkula',\n",
       "       'Sikkim', 'Kolhapur', 'Dhanbad', 'Saugor', 'Lonavla',\n",
       "       'Uttarakhand', 'Vijayawada', 'Allahabad', 'Chhattisgarh', 'Bawal',\n",
       "       'Roorkee', 'Agartala', 'Bandra', 'Bikaner', 'Guntur', 'Raver',\n",
       "       'Dharamshala', 'Jabalpur', 'Baroda', 'Kolar', 'Narsimhapur',\n",
       "       'Nagercoil', 'Solapur', 'Pali', 'Jodhpur', 'Haridwar',\n",
       "       'Ulhasnagar', 'Moradabad', 'Kalyan', 'Rayagada', 'Ballygunge',\n",
       "       'Hazaribagh', 'Kohima', 'Kurukshetra', 'Pathankot', 'Prayagraj',\n",
       "       'Thodupuzha', 'Angeles City', 'Kharagpur', 'Sonipat', 'Kurnool'],\n",
       "      dtype=object)"
      ]
     },
     "execution_count": 16,
     "metadata": {},
     "output_type": "execute_result"
    }
   ],
   "source": [
    "df1['Location'].unique()"
   ]
  },
  {
   "cell_type": "code",
   "execution_count": 17,
   "id": "0134b0ff",
   "metadata": {},
   "outputs": [
    {
     "data": {
      "text/plain": [
       "India        1894\n",
       "Mumbai       1551\n",
       "Delhi         477\n",
       "New Delhi     425\n",
       "Bengaluru     356\n",
       "             ... \n",
       "Anand           1\n",
       "Addanki         1\n",
       "Mazgaon         1\n",
       "Hassan          1\n",
       "Kurnool         1\n",
       "Name: Location, Length: 208, dtype: int64"
      ]
     },
     "execution_count": 17,
     "metadata": {},
     "output_type": "execute_result"
    }
   ],
   "source": [
    "df1['Location'].value_counts()"
   ]
  },
  {
   "cell_type": "code",
   "execution_count": 18,
   "id": "ce10b5ef",
   "metadata": {},
   "outputs": [
    {
     "data": {
      "text/plain": [
       "<AxesSubplot:xlabel='Location', ylabel='count'>"
      ]
     },
     "execution_count": 18,
     "metadata": {},
     "output_type": "execute_result"
    },
    {
     "data": {
      "image/png": "[encoded data removed]",
      "text/plain": [
       "<Figure size 432x288 with 1 Axes>"
      ]
     },
     "metadata": {
      "needs_background": "light"
     },
     "output_type": "display_data"
    }
   ],
   "source": [
    "sns.countplot(df['Location'])"
   ]
  },
  {
   "cell_type": "code",
   "execution_count": 19,
   "id": "2811691f",
   "metadata": {},
   "outputs": [
    {
     "data": {
      "text/plain": [
       "1       1.61%\n",
       "2       1.48%\n",
       "3       0.87%\n",
       "4       1.55%\n",
       "5       4.78%\n",
       "        ...  \n",
       "6465    2.40%\n",
       "6466    1.68%\n",
       "6467    3.31%\n",
       "6468    0.02%\n",
       "6469    0.03%\n",
       "Name: Engagement  Rate, Length: 6469, dtype: object"
      ]
     },
     "execution_count": 19,
     "metadata": {},
     "output_type": "execute_result"
    }
   ],
   "source": [
    "df1['Engagement  Rate']"
   ]
  },
  {
   "cell_type": "code",
   "execution_count": 20,
   "id": "0e3ce29f",
   "metadata": {},
   "outputs": [],
   "source": [
    "df1['Engagement  Rate'] = df1['Engagement  Rate'].str.replace('%', '')\n",
    "df1['Engagement  Rate'] = df1['Engagement  Rate'].astype(float)"
   ]
  },
  {
   "cell_type": "code",
   "execution_count": 21,
   "id": "fdb27a41",
   "metadata": {},
   "outputs": [
    {
     "data": {
      "text/plain": [
       "1       1.61\n",
       "2       1.48\n",
       "3       0.87\n",
       "4       1.55\n",
       "5       4.78\n",
       "        ... \n",
       "6465    2.40\n",
       "6466    1.68\n",
       "6467    3.31\n",
       "6468    0.02\n",
       "6469    0.03\n",
       "Name: Engagement  Rate, Length: 6469, dtype: float64"
      ]
     },
     "execution_count": 21,
     "metadata": {},
     "output_type": "execute_result"
    }
   ],
   "source": [
    "df1['Engagement  Rate']"
   ]
  },
  {
   "cell_type": "code",
   "execution_count": 22,
   "id": "f2d5b449",
   "metadata": {},
   "outputs": [
    {
     "data": {
      "text/plain": [
       "2.138553099397137"
      ]
     },
     "execution_count": 22,
     "metadata": {},
     "output_type": "execute_result"
    }
   ],
   "source": [
    "df1['Engagement  Rate'].mean()"
   ]
  },
  {
   "cell_type": "code",
   "execution_count": 23,
   "id": "3e5dd539",
   "metadata": {},
   "outputs": [
    {
     "data": {
      "text/plain": [
       "0    0.0\n",
       "dtype: float64"
      ]
     },
     "execution_count": 23,
     "metadata": {},
     "output_type": "execute_result"
    }
   ],
   "source": [
    "df1['Engagement  Rate'].mode()"
   ]
  },
  {
   "cell_type": "code",
   "execution_count": 24,
   "id": "a41e4bfe",
   "metadata": {},
   "outputs": [],
   "source": [
    "value=df1['Engagement  Rate'].mode()"
   ]
  },
  {
   "cell_type": "code",
   "execution_count": 25,
   "id": "c75ffce6",
   "metadata": {},
   "outputs": [
    {
     "data": {
      "text/plain": [
       "0.0    1\n",
       "dtype: int64"
      ]
     },
     "execution_count": 25,
     "metadata": {},
     "output_type": "execute_result"
    }
   ],
   "source": [
    "value.value_counts()"
   ]
  },
  {
   "cell_type": "code",
   "execution_count": 26,
   "id": "772e05c7",
   "metadata": {},
   "outputs": [
    {
     "data": {
      "text/plain": [
       "1.11"
      ]
     },
     "execution_count": 26,
     "metadata": {},
     "output_type": "execute_result"
    }
   ],
   "source": [
    "df1['Engagement  Rate'].median()"
   ]
  },
  {
   "cell_type": "code",
   "execution_count": 27,
   "id": "29714b17",
   "metadata": {},
   "outputs": [
    {
     "data": {
      "text/plain": [
       "0        711\n",
       "1k       116\n",
       "1.1k      93\n",
       "1.2k      92\n",
       "1.3k      81\n",
       "        ... \n",
       "57.9k      1\n",
       "85.6k      1\n",
       "43.6k      1\n",
       "97.3k      1\n",
       "852        1\n",
       "Name: Avg Likes, Length: 1585, dtype: int64"
      ]
     },
     "execution_count": 27,
     "metadata": {},
     "output_type": "execute_result"
    }
   ],
   "source": [
    "df1['Avg Likes'].value_counts()"
   ]
  },
  {
   "cell_type": "code",
   "execution_count": 28,
   "id": "716a6381",
   "metadata": {},
   "outputs": [
    {
     "data": {
      "text/html": [
       "<div>\n",
       "<style scoped>\n",
       "    .dataframe tbody tr th:only-of-type {\n",
       "        vertical-align: middle;\n",
       "    }\n",
       "\n",
       "    .dataframe tbody tr th {\n",
       "        vertical-align: top;\n",
       "    }\n",
       "\n",
       "    .dataframe thead th {\n",
       "        text-align: right;\n",
       "    }\n",
       "</style>\n",
       "<table border=\"1\" class=\"dataframe\">\n",
       "  <thead>\n",
       "    <tr style=\"text-align: right;\">\n",
       "      <th></th>\n",
       "      <th>Name</th>\n",
       "      <th>Q score</th>\n",
       "      <th>Followers</th>\n",
       "      <th>Avg Likes</th>\n",
       "      <th>Avg Views</th>\n",
       "      <th>Engagement  Rate</th>\n",
       "      <th>Location</th>\n",
       "      <th>Category</th>\n",
       "    </tr>\n",
       "  </thead>\n",
       "  <tbody>\n",
       "    <tr>\n",
       "      <th>1</th>\n",
       "      <td>Priyanka Chopra Jonaspriyankachopra</td>\n",
       "      <td>9.51</td>\n",
       "      <td>79.7m</td>\n",
       "      <td>1.3m</td>\n",
       "      <td>3.6m</td>\n",
       "      <td>1.61</td>\n",
       "      <td>India</td>\n",
       "      <td>Arts &amp; EntertainmentMovies</td>\n",
       "    </tr>\n",
       "    <tr>\n",
       "      <th>2</th>\n",
       "      <td>Shraddha Kapoorshraddhakapoor</td>\n",
       "      <td>9.46</td>\n",
       "      <td>73.2m</td>\n",
       "      <td>1.1m</td>\n",
       "      <td>1.3m</td>\n",
       "      <td>1.48</td>\n",
       "      <td>India</td>\n",
       "      <td>Arts &amp; EntertainmentMovies</td>\n",
       "    </tr>\n",
       "    <tr>\n",
       "      <th>3</th>\n",
       "      <td>Neha Kakkarnehakakkar</td>\n",
       "      <td>9.34</td>\n",
       "      <td>70.3m</td>\n",
       "      <td>609k</td>\n",
       "      <td>2m</td>\n",
       "      <td>0.87</td>\n",
       "      <td>Mumbai</td>\n",
       "      <td>Arts &amp; EntertainmentMovies</td>\n",
       "    </tr>\n",
       "    <tr>\n",
       "      <th>4</th>\n",
       "      <td>Deepika Padukonedeepikapadukone</td>\n",
       "      <td>9.45</td>\n",
       "      <td>67.6m</td>\n",
       "      <td>1m</td>\n",
       "      <td>893.4k</td>\n",
       "      <td>1.55</td>\n",
       "      <td>India</td>\n",
       "      <td>Arts &amp; EntertainmentMovies</td>\n",
       "    </tr>\n",
       "    <tr>\n",
       "      <th>5</th>\n",
       "      <td>Alia Bhattaliaabhatt</td>\n",
       "      <td>9.99</td>\n",
       "      <td>66.6m</td>\n",
       "      <td>3.2m</td>\n",
       "      <td>4.8m</td>\n",
       "      <td>4.78</td>\n",
       "      <td>India</td>\n",
       "      <td>Arts &amp; EntertainmentMovies</td>\n",
       "    </tr>\n",
       "    <tr>\n",
       "      <th>...</th>\n",
       "      <td>...</td>\n",
       "      <td>...</td>\n",
       "      <td>...</td>\n",
       "      <td>...</td>\n",
       "      <td>...</td>\n",
       "      <td>...</td>\n",
       "      <td>...</td>\n",
       "      <td>...</td>\n",
       "    </tr>\n",
       "    <tr>\n",
       "      <th>6465</th>\n",
       "      <td>SJbox | Shreya Jainsj.box</td>\n",
       "      <td>6.76</td>\n",
       "      <td>20.2k</td>\n",
       "      <td>441</td>\n",
       "      <td>7.8k</td>\n",
       "      <td>2.40</td>\n",
       "      <td>Jaipur</td>\n",
       "      <td>Style &amp; FashionClothing</td>\n",
       "    </tr>\n",
       "    <tr>\n",
       "      <th>6466</th>\n",
       "      <td>Monahleesamonahleesa</td>\n",
       "      <td>6.37</td>\n",
       "      <td>20.2k</td>\n",
       "      <td>254</td>\n",
       "      <td>1k</td>\n",
       "      <td>1.68</td>\n",
       "      <td>Bengaluru</td>\n",
       "      <td>LifestyleStyle &amp; Fashion</td>\n",
       "    </tr>\n",
       "    <tr>\n",
       "      <th>6467</th>\n",
       "      <td>Ganesh Parikh letsgostylish_</td>\n",
       "      <td>7.06</td>\n",
       "      <td>20.1k</td>\n",
       "      <td>659</td>\n",
       "      <td>0</td>\n",
       "      <td>3.31</td>\n",
       "      <td>Mumbai</td>\n",
       "      <td>Style &amp; FashionClothing</td>\n",
       "    </tr>\n",
       "    <tr>\n",
       "      <th>6468</th>\n",
       "      <td>Style_ina_whilestyle_ina_while</td>\n",
       "      <td>2.32</td>\n",
       "      <td>20k</td>\n",
       "      <td>4</td>\n",
       "      <td>72</td>\n",
       "      <td>0.02</td>\n",
       "      <td>Mumbai</td>\n",
       "      <td>Style &amp; FashionBeauty</td>\n",
       "    </tr>\n",
       "    <tr>\n",
       "      <th>6469</th>\n",
       "      <td>RANJIT RODRICKSranjitrodricks</td>\n",
       "      <td>2.48</td>\n",
       "      <td>20k</td>\n",
       "      <td>0</td>\n",
       "      <td>375</td>\n",
       "      <td>0.03</td>\n",
       "      <td>Mumbai</td>\n",
       "      <td>Style &amp; Fashion</td>\n",
       "    </tr>\n",
       "  </tbody>\n",
       "</table>\n",
       "<p>6469 rows × 8 columns</p>\n",
       "</div>"
      ],
      "text/plain": [
       "                                     Name  Q score  Followers Avg Likes  \\\n",
       "1     Priyanka Chopra Jonaspriyankachopra      9.51     79.7m      1.3m   \n",
       "2           Shraddha Kapoorshraddhakapoor      9.46     73.2m      1.1m   \n",
       "3                   Neha Kakkarnehakakkar      9.34     70.3m      609k   \n",
       "4         Deepika Padukonedeepikapadukone      9.45     67.6m        1m   \n",
       "5                    Alia Bhattaliaabhatt      9.99     66.6m      3.2m   \n",
       "...                                   ...       ...       ...       ...   \n",
       "6465            SJbox | Shreya Jainsj.box      6.76     20.2k       441   \n",
       "6466                 Monahleesamonahleesa      6.37     20.2k       254   \n",
       "6467         Ganesh Parikh letsgostylish_      7.06     20.1k       659   \n",
       "6468       Style_ina_whilestyle_ina_while      2.32       20k         4   \n",
       "6469        RANJIT RODRICKSranjitrodricks      2.48       20k         0   \n",
       "\n",
       "     Avg Views   Engagement  Rate   Location                    Category  \n",
       "1          3.6m              1.61      India  Arts & EntertainmentMovies  \n",
       "2          1.3m              1.48      India  Arts & EntertainmentMovies  \n",
       "3            2m              0.87     Mumbai  Arts & EntertainmentMovies  \n",
       "4        893.4k              1.55      India  Arts & EntertainmentMovies  \n",
       "5          4.8m              4.78      India  Arts & EntertainmentMovies  \n",
       "...         ...               ...        ...                         ...  \n",
       "6465       7.8k              2.40     Jaipur     Style & FashionClothing  \n",
       "6466         1k              1.68  Bengaluru    LifestyleStyle & Fashion  \n",
       "6467          0              3.31     Mumbai     Style & FashionClothing  \n",
       "6468         72              0.02     Mumbai       Style & FashionBeauty  \n",
       "6469        375              0.03     Mumbai             Style & Fashion  \n",
       "\n",
       "[6469 rows x 8 columns]"
      ]
     },
     "execution_count": 28,
     "metadata": {},
     "output_type": "execute_result"
    }
   ],
   "source": [
    "df1"
   ]
  },
  {
   "cell_type": "code",
   "execution_count": 29,
   "id": "de3cb272",
   "metadata": {},
   "outputs": [
    {
     "data": {
      "text/plain": [
       "1m        75\n",
       "1.1m      71\n",
       "1.2m      62\n",
       "0.9m      55\n",
       "1.4m      41\n",
       "          ..\n",
       "522.1k     1\n",
       "503.5k     1\n",
       "522.9k     1\n",
       "525.1k     1\n",
       "79.7m      1\n",
       "Name: Followers, Length: 2603, dtype: int64"
      ]
     },
     "execution_count": 29,
     "metadata": {},
     "output_type": "execute_result"
    }
   ],
   "source": [
    "df1['Followers'].value_counts()"
   ]
  },
  {
   "cell_type": "code",
   "execution_count": 33,
   "id": "f9e35a01",
   "metadata": {},
   "outputs": [],
   "source": [
    "df1.columns = map(lambda s:s.strip(),df1.columns)\n",
    "\n"
   ]
  },
  {
   "cell_type": "code",
   "execution_count": 35,
   "id": "836b3910",
   "metadata": {},
   "outputs": [
    {
     "data": {
      "text/html": [
       "<div>\n",
       "<style scoped>\n",
       "    .dataframe tbody tr th:only-of-type {\n",
       "        vertical-align: middle;\n",
       "    }\n",
       "\n",
       "    .dataframe tbody tr th {\n",
       "        vertical-align: top;\n",
       "    }\n",
       "\n",
       "    .dataframe thead th {\n",
       "        text-align: right;\n",
       "    }\n",
       "</style>\n",
       "<table border=\"1\" class=\"dataframe\">\n",
       "  <thead>\n",
       "    <tr style=\"text-align: right;\">\n",
       "      <th></th>\n",
       "      <th>Name</th>\n",
       "      <th>Q score</th>\n",
       "      <th>Followers</th>\n",
       "      <th>Avg Likes</th>\n",
       "      <th>Avg Views</th>\n",
       "      <th>Engagement  Rate</th>\n",
       "      <th>Location</th>\n",
       "      <th>Category</th>\n",
       "    </tr>\n",
       "  </thead>\n",
       "  <tbody>\n",
       "    <tr>\n",
       "      <th>1</th>\n",
       "      <td>Priyanka Chopra Jonaspriyankachopra</td>\n",
       "      <td>9.51</td>\n",
       "      <td>79.7m</td>\n",
       "      <td>1.3m</td>\n",
       "      <td>3.6m</td>\n",
       "      <td>1.61</td>\n",
       "      <td>India</td>\n",
       "      <td>Arts &amp; EntertainmentMovies</td>\n",
       "    </tr>\n",
       "    <tr>\n",
       "      <th>2</th>\n",
       "      <td>Shraddha Kapoorshraddhakapoor</td>\n",
       "      <td>9.46</td>\n",
       "      <td>73.2m</td>\n",
       "      <td>1.1m</td>\n",
       "      <td>1.3m</td>\n",
       "      <td>1.48</td>\n",
       "      <td>India</td>\n",
       "      <td>Arts &amp; EntertainmentMovies</td>\n",
       "    </tr>\n",
       "    <tr>\n",
       "      <th>3</th>\n",
       "      <td>Neha Kakkarnehakakkar</td>\n",
       "      <td>9.34</td>\n",
       "      <td>70.3m</td>\n",
       "      <td>609k</td>\n",
       "      <td>2m</td>\n",
       "      <td>0.87</td>\n",
       "      <td>Mumbai</td>\n",
       "      <td>Arts &amp; EntertainmentMovies</td>\n",
       "    </tr>\n",
       "    <tr>\n",
       "      <th>4</th>\n",
       "      <td>Deepika Padukonedeepikapadukone</td>\n",
       "      <td>9.45</td>\n",
       "      <td>67.6m</td>\n",
       "      <td>1m</td>\n",
       "      <td>893.4k</td>\n",
       "      <td>1.55</td>\n",
       "      <td>India</td>\n",
       "      <td>Arts &amp; EntertainmentMovies</td>\n",
       "    </tr>\n",
       "    <tr>\n",
       "      <th>5</th>\n",
       "      <td>Alia Bhattaliaabhatt</td>\n",
       "      <td>9.99</td>\n",
       "      <td>66.6m</td>\n",
       "      <td>3.2m</td>\n",
       "      <td>4.8m</td>\n",
       "      <td>4.78</td>\n",
       "      <td>India</td>\n",
       "      <td>Arts &amp; EntertainmentMovies</td>\n",
       "    </tr>\n",
       "    <tr>\n",
       "      <th>...</th>\n",
       "      <td>...</td>\n",
       "      <td>...</td>\n",
       "      <td>...</td>\n",
       "      <td>...</td>\n",
       "      <td>...</td>\n",
       "      <td>...</td>\n",
       "      <td>...</td>\n",
       "      <td>...</td>\n",
       "    </tr>\n",
       "    <tr>\n",
       "      <th>6465</th>\n",
       "      <td>SJbox | Shreya Jainsj.box</td>\n",
       "      <td>6.76</td>\n",
       "      <td>20.2k</td>\n",
       "      <td>441</td>\n",
       "      <td>7.8k</td>\n",
       "      <td>2.40</td>\n",
       "      <td>Jaipur</td>\n",
       "      <td>Style &amp; FashionClothing</td>\n",
       "    </tr>\n",
       "    <tr>\n",
       "      <th>6466</th>\n",
       "      <td>Monahleesamonahleesa</td>\n",
       "      <td>6.37</td>\n",
       "      <td>20.2k</td>\n",
       "      <td>254</td>\n",
       "      <td>1k</td>\n",
       "      <td>1.68</td>\n",
       "      <td>Bengaluru</td>\n",
       "      <td>LifestyleStyle &amp; Fashion</td>\n",
       "    </tr>\n",
       "    <tr>\n",
       "      <th>6467</th>\n",
       "      <td>Ganesh Parikh letsgostylish_</td>\n",
       "      <td>7.06</td>\n",
       "      <td>20.1k</td>\n",
       "      <td>659</td>\n",
       "      <td>0</td>\n",
       "      <td>3.31</td>\n",
       "      <td>Mumbai</td>\n",
       "      <td>Style &amp; FashionClothing</td>\n",
       "    </tr>\n",
       "    <tr>\n",
       "      <th>6468</th>\n",
       "      <td>Style_ina_whilestyle_ina_while</td>\n",
       "      <td>2.32</td>\n",
       "      <td>20k</td>\n",
       "      <td>4</td>\n",
       "      <td>72</td>\n",
       "      <td>0.02</td>\n",
       "      <td>Mumbai</td>\n",
       "      <td>Style &amp; FashionBeauty</td>\n",
       "    </tr>\n",
       "    <tr>\n",
       "      <th>6469</th>\n",
       "      <td>RANJIT RODRICKSranjitrodricks</td>\n",
       "      <td>2.48</td>\n",
       "      <td>20k</td>\n",
       "      <td>0</td>\n",
       "      <td>375</td>\n",
       "      <td>0.03</td>\n",
       "      <td>Mumbai</td>\n",
       "      <td>Style &amp; Fashion</td>\n",
       "    </tr>\n",
       "  </tbody>\n",
       "</table>\n",
       "<p>6469 rows × 8 columns</p>\n",
       "</div>"
      ],
      "text/plain": [
       "                                     Name  Q score Followers Avg Likes  \\\n",
       "1     Priyanka Chopra Jonaspriyankachopra     9.51     79.7m      1.3m   \n",
       "2           Shraddha Kapoorshraddhakapoor     9.46     73.2m      1.1m   \n",
       "3                   Neha Kakkarnehakakkar     9.34     70.3m      609k   \n",
       "4         Deepika Padukonedeepikapadukone     9.45     67.6m        1m   \n",
       "5                    Alia Bhattaliaabhatt     9.99     66.6m      3.2m   \n",
       "...                                   ...      ...       ...       ...   \n",
       "6465            SJbox | Shreya Jainsj.box     6.76     20.2k       441   \n",
       "6466                 Monahleesamonahleesa     6.37     20.2k       254   \n",
       "6467         Ganesh Parikh letsgostylish_     7.06     20.1k       659   \n",
       "6468       Style_ina_whilestyle_ina_while     2.32       20k         4   \n",
       "6469        RANJIT RODRICKSranjitrodricks     2.48       20k         0   \n",
       "\n",
       "     Avg Views  Engagement  Rate   Location                    Category  \n",
       "1         3.6m              1.61      India  Arts & EntertainmentMovies  \n",
       "2         1.3m              1.48      India  Arts & EntertainmentMovies  \n",
       "3           2m              0.87     Mumbai  Arts & EntertainmentMovies  \n",
       "4       893.4k              1.55      India  Arts & EntertainmentMovies  \n",
       "5         4.8m              4.78      India  Arts & EntertainmentMovies  \n",
       "...        ...               ...        ...                         ...  \n",
       "6465      7.8k              2.40     Jaipur     Style & FashionClothing  \n",
       "6466        1k              1.68  Bengaluru    LifestyleStyle & Fashion  \n",
       "6467         0              3.31     Mumbai     Style & FashionClothing  \n",
       "6468        72              0.02     Mumbai       Style & FashionBeauty  \n",
       "6469       375              0.03     Mumbai             Style & Fashion  \n",
       "\n",
       "[6469 rows x 8 columns]"
      ]
     },
     "execution_count": 35,
     "metadata": {},
     "output_type": "execute_result"
    }
   ],
   "source": [
    "df1"
   ]
  },
  {
   "cell_type": "code",
   "execution_count": 34,
   "id": "e5fab26c",
   "metadata": {},
   "outputs": [
    {
     "data": {
      "text/plain": [
       "0         555\n",
       "1k         62\n",
       "1.9k       60\n",
       "1.1k       59\n",
       "2.5k       55\n",
       "         ... \n",
       "88.3k       1\n",
       "69.9k       1\n",
       "69.7k       1\n",
       "158.9k      1\n",
       "375         1\n",
       "Name: Avg Views, Length: 1833, dtype: int64"
      ]
     },
     "execution_count": 34,
     "metadata": {},
     "output_type": "execute_result"
    }
   ],
   "source": [
    "df1['Avg Views'].value_counts()"
   ]
  },
  {
   "cell_type": "code",
   "execution_count": null,
   "id": "507725b8",
   "metadata": {},
   "outputs": [],
   "source": [
    "sns."
   ]
  },
  {
   "cell_type": "code",
   "execution_count": null,
   "id": "abfe7297",
   "metadata": {},
   "outputs": [],
   "source": []
  },
  {
   "cell_type": "code",
   "execution_count": null,
   "id": "a0000112",
   "metadata": {},
   "outputs": [],
   "source": []
  },
  {
   "cell_type": "code",
   "execution_count": null,
   "id": "c54659c2",
   "metadata": {},
   "outputs": [],
   "source": []
  },
  {
   "cell_type": "code",
   "execution_count": null,
   "id": "83b1a49d",
   "metadata": {},
   "outputs": [],
   "source": []
  },
  {
   "cell_type": "code",
   "execution_count": null,
   "id": "54f669f6",
   "metadata": {},
   "outputs": [],
   "source": [
    "df1['Avg Views'] = df1['Avg Views'].str.replace('m', '00000')\n",
    "df1['Avg Views'] = df1['Avg Views'].str.replace('k', '00')\n",
    "df1['Avg Views'] = df1['Avg Views'].astype(float)"
   ]
  },
  {
   "cell_type": "code",
   "execution_count": null,
   "id": "ab3ffaed",
   "metadata": {},
   "outputs": [],
   "source": [
    "df1.columns = map(lambda s:s.strip(),df1.columns)\n",
    "df1.Avg Views\n"
   ]
  },
  {
   "cell_type": "code",
   "execution_count": null,
   "id": "430463e6",
   "metadata": {},
   "outputs": [],
   "source": [
    "df2 = df1.rename({'Avg Views': 'avgview'}, axis=1,inplace=True)"
   ]
  },
  {
   "cell_type": "code",
   "execution_count": null,
   "id": "9af23cbb",
   "metadata": {},
   "outputs": [],
   "source": [
    "df2.columns = map(lambda s:s.strip(),df2.columns)\n",
    "df2.avgview\n"
   ]
  },
  {
   "cell_type": "code",
   "execution_count": null,
   "id": "d9ab492f",
   "metadata": {},
   "outputs": [],
   "source": []
  }
 ],
 "metadata": {
  "kernelspec": {
   "display_name": "Python 3 (ipykernel)",
   "language": "python",
   "name": "python3"
  },
  "language_info": {
   "codemirror_mode": {
    "name": "ipython",
    "version": 3
   },
   "file_extension": ".py",
   "mimetype": "text/x-python",
   "name": "python",
   "nbconvert_exporter": "python",
   "pygments_lexer": "ipython3",
   "version": "3.9.7"
  }
 },
 "nbformat": 4,
 "nbformat_minor": 5
}
